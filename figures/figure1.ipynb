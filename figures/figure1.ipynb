{
  "nbformat": 4,
  "nbformat_minor": 0,
  "metadata": {
    "colab": {
      "name": "Nematodes.ipynb",
      "version": "0.3.2",
      "provenance": [],
      "collapsed_sections": []
    },
    "kernelspec": {
      "name": "python3",
      "display_name": "Python 3"
    }
  },
  "cells": [
    {
      "metadata": {
        "id": "aZgVF5xDB5VT",
        "colab_type": "code",
        "outputId": "f11c814d-3443-498d-fe96-c23bec42dae5",
        "colab": {
          "base_uri": "https://localhost:8080/",
          "height": 263
        }
      },
      "cell_type": "code",
      "source": [
        "!pip install seaborn==0.9.0\n",
        "\n",
        "import seaborn as sns\n",
        "print(sns.__version__)"
      ],
      "execution_count": 0,
      "outputs": [
        {
          "output_type": "stream",
          "text": [
            "Requirement already satisfied: seaborn==0.9.0 in /usr/local/lib/python3.6/dist-packages (0.9.0)\n",
            "Requirement already satisfied: scipy>=0.14.0 in /usr/local/lib/python3.6/dist-packages (from seaborn==0.9.0) (1.1.0)\n",
            "Requirement already satisfied: pandas>=0.15.2 in /usr/local/lib/python3.6/dist-packages (from seaborn==0.9.0) (0.22.0)\n",
            "Requirement already satisfied: numpy>=1.9.3 in /usr/local/lib/python3.6/dist-packages (from seaborn==0.9.0) (1.14.6)\n",
            "Requirement already satisfied: matplotlib>=1.4.3 in /usr/local/lib/python3.6/dist-packages (from seaborn==0.9.0) (3.0.2)\n",
            "Requirement already satisfied: python-dateutil>=2 in /usr/local/lib/python3.6/dist-packages (from pandas>=0.15.2->seaborn==0.9.0) (2.5.3)\n",
            "Requirement already satisfied: pytz>=2011k in /usr/local/lib/python3.6/dist-packages (from pandas>=0.15.2->seaborn==0.9.0) (2018.9)\n",
            "Requirement already satisfied: cycler>=0.10 in /usr/local/lib/python3.6/dist-packages (from matplotlib>=1.4.3->seaborn==0.9.0) (0.10.0)\n",
            "Requirement already satisfied: pyparsing!=2.0.4,!=2.1.2,!=2.1.6,>=2.0.1 in /usr/local/lib/python3.6/dist-packages (from matplotlib>=1.4.3->seaborn==0.9.0) (2.3.1)\n",
            "Requirement already satisfied: kiwisolver>=1.0.1 in /usr/local/lib/python3.6/dist-packages (from matplotlib>=1.4.3->seaborn==0.9.0) (1.0.1)\n",
            "Requirement already satisfied: six>=1.5 in /usr/local/lib/python3.6/dist-packages (from python-dateutil>=2->pandas>=0.15.2->seaborn==0.9.0) (1.11.0)\n",
            "Requirement already satisfied: setuptools in /usr/local/lib/python3.6/dist-packages (from kiwisolver>=1.0.1->matplotlib>=1.4.3->seaborn==0.9.0) (40.8.0)\n",
            "0.9.0\n"
          ],
          "name": "stdout"
        }
      ]
    },
    {
      "metadata": {
        "id": "dM6CU3RoCtjs",
        "colab_type": "code",
        "colab": {}
      },
      "cell_type": "code",
      "source": [
        "# Install necessary libraries\n",
        "import pandas as pd\n",
        "import numpy as np\n",
        "import math as mt\n",
        "from scipy import stats\n",
        "from statsmodels.sandbox.stats.multicomp import multipletests\n"
      ],
      "execution_count": 0,
      "outputs": []
    },
    {
      "metadata": {
        "id": "zNjweVfJC5YC",
        "colab_type": "code",
        "outputId": "905879ac-a7cc-4180-a8a5-710d3902c89d",
        "colab": {
          "base_uri": "https://localhost:8080/",
          "height": 35
        }
      },
      "cell_type": "code",
      "source": [
        "# Read in data\n",
        "geneData = pd.read_csv('10_13genes.txt', sep=\"\\t\")\n",
        "geneData.head()"
      ],
      "execution_count": 0,
      "outputs": [
        {
          "output_type": "stream",
          "text": [
            "4898\n"
          ],
          "name": "stdout"
        }
      ]
    },
    {
      "metadata": {
        "id": "laW8rHA5Eu41",
        "colab_type": "code",
        "outputId": "9519b70d-e74d-45e6-aaa0-a6de82506f7f",
        "colab": {
          "base_uri": "https://localhost:8080/",
          "height": 1092
        }
      },
      "cell_type": "code",
      "source": [
        "# Delete rows that contain invalid insect fitness levels\n",
        "geneData = geneData[geneData['InsectFitness'] != \"#DIV/0!\"]\n",
        "\n",
        "# Convert to strings in dataframe int and float\n",
        "\n",
        "pd.to_numeric(geneData['Gene'])\n",
        "pd.to_numeric(geneData['InsectFitness'])"
      ],
      "execution_count": 0,
      "outputs": [
        {
          "output_type": "execute_result",
          "data": {
            "text/plain": [
              "0         0.000000\n",
              "1         0.000000\n",
              "2         0.000000\n",
              "3         0.000000\n",
              "4         0.000000\n",
              "5         0.000000\n",
              "6         0.000000\n",
              "7         0.000000\n",
              "8         0.000000\n",
              "9         0.000000\n",
              "10        0.000000\n",
              "11        0.000000\n",
              "12        0.000000\n",
              "13        0.000000\n",
              "14        0.000000\n",
              "15        0.000000\n",
              "16        0.000000\n",
              "17        0.000000\n",
              "18        0.000000\n",
              "19        0.000000\n",
              "20        0.000000\n",
              "21        0.000000\n",
              "22        0.000000\n",
              "23        0.000000\n",
              "24        0.000000\n",
              "25        0.000000\n",
              "26        0.000000\n",
              "27        0.000000\n",
              "28        0.000000\n",
              "29        0.000000\n",
              "           ...    \n",
              "3256    119.000000\n",
              "3257    125.000000\n",
              "3258    128.500000\n",
              "3259    137.000000\n",
              "3260    142.000000\n",
              "3261    148.000000\n",
              "3262    151.500000\n",
              "3263    154.500000\n",
              "3264    160.000000\n",
              "3265    162.000000\n",
              "3266    174.000000\n",
              "3267    177.000000\n",
              "3268    185.000000\n",
              "3269    191.000000\n",
              "3270    193.666667\n",
              "3271    201.500000\n",
              "3272    208.000000\n",
              "3273    215.000000\n",
              "3274    218.714286\n",
              "3275    223.000000\n",
              "3276    224.666667\n",
              "3277    226.000000\n",
              "3278    232.000000\n",
              "3279    243.000000\n",
              "3280    266.000000\n",
              "3281    268.000000\n",
              "3282    271.500000\n",
              "3283    272.000000\n",
              "3284    493.000000\n",
              "3285    662.000000\n",
              "Name: InsectFitness, Length: 3286, dtype: float64"
            ]
          },
          "metadata": {
            "tags": []
          },
          "execution_count": 40
        }
      ]
    },
    {
      "metadata": {
        "id": "9DUpuP8LDp66",
        "colab_type": "code",
        "colab": {}
      },
      "cell_type": "code",
      "source": [
        "allGene = []\n",
        "allFitness = []\n",
        "\n",
        "fitnessLog = []\n",
        "top5 = []\n",
        "\n",
        "# Retrieve fitness information\n",
        "for i in range(0, len(geneData['InsectFitness'])):\n",
        "  geneNum = int(geneData['Gene'][i])\n",
        "  data = float(geneData['InsectFitness'][i])\n",
        "  allGene.append(geneNum)\n",
        "  allFitness.append(data)\n",
        "  log = 0\n",
        "  if data == 0: # Can't take log(0)\n",
        "    #log = (mt.log10(data + 0.0001))\n",
        "    continue\n",
        "  else:\n",
        "    log = (mt.log10(data))\n",
        "  fitnessLog.append(log)\n",
        "  if log >= .7394: # 5% cutoff\n",
        "    top5.append(log)\n",
        "    \n",
        "allData = pd.DataFrame(list(zip(allGene, allFitness)), columns=['Gene Order', 'Insect Fitness'])\n"
      ],
      "execution_count": 0,
      "outputs": []
    },
    {
      "metadata": {
        "id": "h7n4STj_UgDd",
        "colab_type": "code",
        "outputId": "d41979e0-f678-4050-e6f9-77cdbf75093f",
        "colab": {
          "base_uri": "https://localhost:8080/",
          "height": 301
        }
      },
      "cell_type": "code",
      "source": [
        "# Plot insect fitness\n",
        "line = pd.DataFrame(list(zip([0,5000], [30.11,30.11])), columns=['x', 'y'])\n",
        "sns.lineplot(x=line['x'], y=line['y'], color='red')\n",
        "sns.scatterplot(allData['Gene Order'],allData['Insect Fitness'])\n"
      ],
      "execution_count": 0,
      "outputs": [
        {
          "output_type": "execute_result",
          "data": {
            "text/plain": [
              "<matplotlib.axes._subplots.AxesSubplot at 0x7f909ab38c88>"
            ]
          },
          "metadata": {
            "tags": []
          },
          "execution_count": 39
        },
        {
          "output_type": "display_data",
          "data": {
            "image/png": "[encoded data removed]",
            "text/plain": [
              "<Figure size 432x288 with 1 Axes>"
            ]
          },
          "metadata": {
            "tags": []
          }
        }
      ]
    },
    {
      "metadata": {
        "id": "WXoun_5_pT1E",
        "colab_type": "text"
      },
      "cell_type": "markdown",
      "source": [
        "Define 2 highest points, defining haracteristics\n",
        "Manhattan Plot\n",
        "Label axes\n",
        "p-values (how different they are from avg fitness)\n",
        "Scatter/Manhattan Plot is better for paper\n",
        "\n",
        "Histogram as supplement\n",
        "Use statistical 95% threshold based on histogram\n",
        "\n",
        "Caption\n",
        "Figure should be self-explanatory without reading caption\n",
        "Caption should tell you everything you need to know without looking at paper\n",
        "Paper should tell you everything you need to know without looking at figure\n",
        "See rubric"
      ]
    },
    {
      "metadata": {
        "id": "ESMEJwRpPTJr",
        "colab_type": "code",
        "outputId": "682522b8-7e28-49c1-ebcc-7c4f55afcfe6",
        "colab": {
          "base_uri": "https://localhost:8080/",
          "height": 301
        }
      },
      "cell_type": "code",
      "source": [
        "# Plot distribution of log(InsectFitness)\n",
        "line = pd.DataFrame(list(zip([1.47,1.47], [0,0.8])), columns=['x', 'y'])\n",
        "sns.lineplot(x=line['x'], y=line['y'], color='red')\n",
        "sns.distplot(fitnessLog)"
      ],
      "execution_count": 0,
      "outputs": [
        {
          "output_type": "execute_result",
          "data": {
            "text/plain": [
              "<matplotlib.axes._subplots.AxesSubplot at 0x7f909d0b0cf8>"
            ]
          },
          "metadata": {
            "tags": []
          },
          "execution_count": 10
        },
        {
          "output_type": "display_data",
          "data": {
            "image/png": "[encoded data removed]",
            "text/plain": [
              "<Figure size 432x288 with 1 Axes>"
            ]
          },
          "metadata": {
            "tags": []
          }
        }
      ]
    },
    {
      "metadata": {
        "id": "qmRssYGoPpf-",
        "colab_type": "code",
        "outputId": "74fdad4f-b8fc-4718-eb08-293c64549896",
        "colab": {
          "base_uri": "https://localhost:8080/",
          "height": 104
        }
      },
      "cell_type": "code",
      "source": [
        "# Calculate mean/standard deviation of log(insectFitness) distribution\n",
        "fitnessSD = np.std(fitnessLog)\n",
        "fitnessMean = np.mean(fitnessLog)\n",
        "print(len(fitnessLog))\n",
        "print(fitnessMean)\n",
        "print(fitnessSD)\n",
        "print(2 * fitnessSD)\n",
        "print(np.percentile(fitnessLog, 90))"
      ],
      "execution_count": 0,
      "outputs": [
        {
          "output_type": "stream",
          "text": [
            "3134\n",
            "0.08813376478002459\n",
            "0.7394243496553878\n",
            "1.4788486993107757\n",
            "1.048427291023625\n"
          ],
          "name": "stdout"
        }
      ]
    },
    {
      "metadata": {
        "id": "W9wXbLpuP4gY",
        "colab_type": "text"
      },
      "cell_type": "markdown",
      "source": [
        "2 standard deviations would be 1.4788, or a fitness score of 30.11\n",
        "So, the top 5% genes have a fitneses score of at least 175.35\n",
        "\n",
        "Using a t-test, we can say with 95% confidence that these values are significantly different from the mean of the distribution."
      ]
    },
    {
      "metadata": {
        "id": "41TN5EslQ0JK",
        "colab_type": "code",
        "outputId": "ea382c7a-49a4-4e47-dd8f-d4d9d18abefc",
        "colab": {
          "base_uri": "https://localhost:8080/",
          "height": 52
        }
      },
      "cell_type": "code",
      "source": [
        "#T-Test to determine if top 5% are significant\n",
        "\n",
        "t, p = stats.ttest_1samp(top5,fitnessMean)\n",
        "print(t)\n",
        "print(p)"
      ],
      "execution_count": 0,
      "outputs": [
        {
          "output_type": "stream",
          "text": [
            "63.103621999791876\n",
            "1.5191744104699993e-250\n"
          ],
          "name": "stdout"
        }
      ]
    },
    {
      "metadata": {
        "id": "gq5GL33efJCU",
        "colab_type": "code",
        "outputId": "cef515e5-071d-4f00-cb06-6c3854398e07",
        "colab": {
          "base_uri": "https://localhost:8080/",
          "height": 35
        }
      },
      "cell_type": "code",
      "source": [
        "# Bonferroni Correction\n",
        "numTests = 4898\n",
        "pAdjusted = p * numTests\n",
        "print(p_adjusted)\n"
      ],
      "execution_count": 0,
      "outputs": [
        {
          "output_type": "stream",
          "text": [
            "3.720458131241028e-247\n"
          ],
          "name": "stdout"
        }
      ]
    }
  ]
}